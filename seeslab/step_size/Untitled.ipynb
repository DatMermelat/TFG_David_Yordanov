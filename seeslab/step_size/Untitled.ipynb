{
 "cells": [
  {
   "cell_type": "markdown",
   "id": "05c4fe76-a80d-4b58-ac6f-b09d414ce333",
   "metadata": {},
   "source": [
    "# Step size performance check"
   ]
  },
  {
   "cell_type": "markdown",
   "id": "1ea5a2e8-31a9-4a85-83e9-b011e64158c0",
   "metadata": {},
   "source": [
    "The code provided in this notebook will plot statistics on the performance of MSE minimalization runs with different step sizes."
   ]
  },
  {
   "cell_type": "code",
   "execution_count": null,
   "id": "a47dd12e-bd0a-4347-a0d3-913d886f833e",
   "metadata": {},
   "outputs": [],
   "source": []
  }
 ],
 "metadata": {
  "kernelspec": {
   "display_name": "Python 3 (ipykernel)",
   "language": "python",
   "name": "python3"
  },
  "language_info": {
   "codemirror_mode": {
    "name": "ipython",
    "version": 3
   },
   "file_extension": ".py",
   "mimetype": "text/x-python",
   "name": "python",
   "nbconvert_exporter": "python",
   "pygments_lexer": "ipython3",
   "version": "3.10.15"
  }
 },
 "nbformat": 4,
 "nbformat_minor": 5
}
